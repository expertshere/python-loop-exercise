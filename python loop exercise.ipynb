{
 "cells": [
  {
   "cell_type": "code",
   "execution_count": 40,
   "id": "581831c3",
   "metadata": {},
   "outputs": [
    {
     "name": "stdout",
     "output_type": "stream",
     "text": [
      "1\n",
      "2\n",
      "3\n",
      "4\n",
      "5\n",
      "6\n",
      "7\n",
      "8\n",
      "9\n"
     ]
    }
   ],
   "source": [
    "#exercise no 1\n",
    "for i in range(1,10):\n",
    "    print(i)"
   ]
  },
  {
   "cell_type": "markdown",
   "id": "a25555aa",
   "metadata": {},
   "source": [
    "\n"
   ]
  },
  {
   "cell_type": "code",
   "execution_count": 4,
   "id": "ed778e37",
   "metadata": {},
   "outputs": [
    {
     "name": "stdout",
     "output_type": "stream",
     "text": [
      "enter the number:4\n",
      "4* 1 = 4\n",
      "4* 2 = 8\n",
      "4* 3 = 12\n",
      "4* 4 = 16\n",
      "4* 5 = 20\n",
      "4* 6 = 24\n",
      "4* 7 = 28\n",
      "4* 8 = 32\n",
      "4* 9 = 36\n",
      "4* 10 = 40\n"
     ]
    }
   ],
   "source": [
    "#exercise no 2\n",
    "num=int(input(\"enter the number:\"))\n",
    "for n in range(1,11):\n",
    "    print(\"4*\",n,\"=\",4*n)\n",
    "        "
   ]
  },
  {
   "cell_type": "code",
   "execution_count": 1,
   "id": "57d1c10b",
   "metadata": {},
   "outputs": [
    {
     "name": "stdout",
     "output_type": "stream",
     "text": [
      "enter the number:7\n",
      "28\n"
     ]
    }
   ],
   "source": [
    "#exercise no 3\n",
    "num = int(input(\"enter the number:\"))\n",
    "\n",
    "if num <0:\n",
    "    print(\"enter the positive number\")\n",
    "else:\n",
    "    sum=0\n",
    "    while num>0:\n",
    "        sum +=num\n",
    "        num-=1\n",
    "        \n",
    "        \n",
    "    print(sum)"
   ]
  },
  {
   "cell_type": "code",
   "execution_count": 9,
   "id": "43201b41",
   "metadata": {},
   "outputs": [
    {
     "name": "stdout",
     "output_type": "stream",
     "text": [
      "Ayesha\n",
      "Aizal\n",
      "Dua\n"
     ]
    }
   ],
   "source": [
    "#exercise n0 4\n",
    "names = [\"Ayesha\" , \"Aizal\" , \"Dua\"]\n",
    "for i in names:\n",
    "    print(i)"
   ]
  },
  {
   "cell_type": "markdown",
   "id": "80d33c3d",
   "metadata": {},
   "source": []
  },
  {
   "cell_type": "code",
   "execution_count": 25,
   "id": "2df62a7d",
   "metadata": {},
   "outputs": [
    {
     "name": "stdout",
     "output_type": "stream",
     "text": [
      "enter the number :7\n",
      "the factorial of the given number is  5040\n"
     ]
    }
   ],
   "source": [
    "#exercise no 5\n",
    "num =int(input(\"enter the number :\"))\n",
    "\n",
    "fact = 1\n",
    "\n",
    "if num <0 :\n",
    "    print(\"factorail of 0  does not exit\")\n",
    "if num ==0:\n",
    "    print(\"factorial of 0 is \",1)\n",
    "if num >0:\n",
    "    for i in range (1,num+1):\n",
    "        fact = fact * i\n",
    "print(\"the factorial of the given number is \",fact)\n",
    "                "
   ]
  },
  {
   "cell_type": "code",
   "execution_count": 29,
   "id": "bd0dbe97",
   "metadata": {},
   "outputs": [
    {
     "name": "stdout",
     "output_type": "stream",
     "text": [
      "enter the number9\n",
      "0\n",
      "1\n",
      "1\n",
      "2\n",
      "3\n",
      "5\n",
      "8\n",
      "13\n",
      "21\n",
      "34\n",
      "55\n"
     ]
    }
   ],
   "source": [
    "#exercise no 6\n",
    "a=0\n",
    "b=1\n",
    "num = int(input(\"enter the number\"))\n",
    "if num ==1:\n",
    "    print(a)\n",
    "else:\n",
    "    print(a)\n",
    "    print(b)\n",
    "        \n",
    "for i in range(1,num+1):\n",
    "    c=a+b\n",
    "    a=b\n",
    "    b=c\n",
    "    print(c)"
   ]
  },
  {
   "cell_type": "code",
   "execution_count": 30,
   "id": "20bd89ef",
   "metadata": {
    "scrolled": true
   },
   "outputs": [
    {
     "name": "stdout",
     "output_type": "stream",
     "text": [
      "8\n",
      "7\n",
      "6\n",
      "5\n",
      "4\n",
      "3\n",
      "2\n",
      "1\n",
      "0\n"
     ]
    }
   ],
   "source": [
    "#execise no 7\n",
    "b=9\n",
    "while b>=1:\n",
    "    b=b-1\n",
    "    print(b)\n"
   ]
  },
  {
   "cell_type": "code",
   "execution_count": 34,
   "id": "1e50d34f",
   "metadata": {},
   "outputs": [
    {
     "name": "stdout",
     "output_type": "stream",
     "text": [
      "enter the number:121\n",
      "121 is palindrome number\n"
     ]
    }
   ],
   "source": [
    "#exercise no 9\n",
    "i=int(input(\"enter the number:\"))\n",
    "rev=0\n",
    "x=i\n",
    "while(i>0):\n",
    "    rev = (rev*10)+i%10\n",
    "    i=i//10\n",
    "if (x==rev):\n",
    "    print(x,\"is palindrome number\")\n",
    "else:\n",
    "    print(x,\"is not palindrome\")\n",
    "\n"
   ]
  },
  {
   "cell_type": "code",
   "execution_count": 35,
   "id": "57e0de30",
   "metadata": {},
   "outputs": [
    {
     "name": "stdout",
     "output_type": "stream",
     "text": [
      "n**2 1 = 1\n",
      "n**2 2 = 4\n",
      "n**2 3 = 9\n",
      "n**2 4 = 16\n"
     ]
    }
   ],
   "source": [
    "#exercise no 10\n",
    "for n in range (1,5):\n",
    "    print(\"n**2\",n,\"=\",n**2)\n",
    "    \n"
   ]
  },
  {
   "cell_type": "code",
   "execution_count": null,
   "id": "6d2feab1",
   "metadata": {},
   "outputs": [],
   "source": []
  }
 ],
 "metadata": {
  "kernelspec": {
   "display_name": "Python 3 (ipykernel)",
   "language": "python",
   "name": "python3"
  },
  "language_info": {
   "codemirror_mode": {
    "name": "ipython",
    "version": 3
   },
   "file_extension": ".py",
   "mimetype": "text/x-python",
   "name": "python",
   "nbconvert_exporter": "python",
   "pygments_lexer": "ipython3",
   "version": "3.11.5"
  }
 },
 "nbformat": 4,
 "nbformat_minor": 5
}
