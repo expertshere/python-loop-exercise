{
 "cells": [
  {
   "cell_type": "code",
   "execution_count": 1,
   "id": "858a8e24",
   "metadata": {},
   "outputs": [
    {
     "name": "stdout",
     "output_type": "stream",
     "text": [
      "enter the number:4\n",
      "even\n"
     ]
    }
   ],
   "source": [
    "#exercise no 1\n",
    "num=int(input(\"enter the number:\"))\n",
    "if num % 2 ==0:\n",
    "    print(\"even\")\n",
    "else:\n",
    "    print(\"odd\")"
   ]
  },
  {
   "cell_type": "code",
   "execution_count": 7,
   "id": "7076e564",
   "metadata": {},
   "outputs": [
    {
     "name": "stdout",
     "output_type": "stream",
     "text": [
      "enter the year:2004\n",
      "2004 is a leap year\n"
     ]
    }
   ],
   "source": [
    "#exercise no 2\n",
    "year =int(input(\"enter the year:\"))\n",
    "if (year %400 ==0) and (year %100==0):\n",
    "    print(year, \"is a leap year\")\n",
    "elif (year %4==0)and (year %100!=0):\n",
    "    print(year,\"is a leap year\")\n",
    "else:\n",
    "    print(\"not a leap year\")"
   ]
  },
  {
   "cell_type": "code",
   "execution_count": 11,
   "id": "f35b98e1",
   "metadata": {},
   "outputs": [
    {
     "name": "stdout",
     "output_type": "stream",
     "text": [
      "enter the age:26\n",
      "you are an adult\n"
     ]
    }
   ],
   "source": [
    "#exercise no 3\n",
    "age=int(input(\"enter the age:\"))\n",
    "if age >=18 :\n",
    "    print(\"you are an adult\")\n",
    "else:\n",
    "     print(\"you are minor\")\n",
    "        \n",
    "        "
   ]
  },
  {
   "cell_type": "code",
   "execution_count": 2,
   "id": "9c0b85ce",
   "metadata": {},
   "outputs": [
    {
     "name": "stdout",
     "output_type": "stream",
     "text": [
      "enter the username:admin\n",
      "enter the password:12345\n",
      "login sucessful\n"
     ]
    }
   ],
   "source": [
    "#exercise no 4\n",
    "username =\"admin\"\n",
    "password =\"12345\"\n",
    "input_username=input(\"enter the username:\")\n",
    "input_password=input(\"enter the password:\")\n",
    "if username ==input_username and password == input_password:\n",
    "    print(\"login sucessful\")\n",
    "else:\n",
    "    print(\"login failed\")"
   ]
  },
  {
   "cell_type": "code",
   "execution_count": 5,
   "id": "c465b854",
   "metadata": {},
   "outputs": [
    {
     "name": "stdout",
     "output_type": "stream",
     "text": [
      "enter the number:-4\n",
      "negative number\n"
     ]
    }
   ],
   "source": [
    "#exercise no 5\n",
    "num=int(input(\"enter the number:\"))\n",
    "if num >0:\n",
    "    print(\"positive number\")\n",
    "elif num <0:\n",
    "    print(\"negative number\")\n",
    "else:\n",
    "    print(\"zero\")"
   ]
  },
  {
   "cell_type": "code",
   "execution_count": 12,
   "id": "36dc1082",
   "metadata": {},
   "outputs": [
    {
     "name": "stdout",
     "output_type": "stream",
     "text": [
      "enter the num1:30\n",
      "enter the num2:11\n",
      "enter the num3:8\n",
      " num1 is maximum number\n"
     ]
    }
   ],
   "source": [
    "#exercise n0 6\n",
    "num1=30\n",
    "num2=11\n",
    "num3=9\n",
    "num=int(input(\"enter the num1:\"))\n",
    "num=int(input(\"enter the num2:\"))\n",
    "num=int(input(\"enter the num3:\"))\n",
    "if num1 > num2 and num1 >num3:\n",
    "    print(\" num1 is maximum number\")\n",
    "if num2 > num1 and num2 > num3:\n",
    "    print(\" num2 is maximum number\")\n",
    "elif num3>num1 and num3 >num2:\n",
    "    print(\" num3 is maximum number\")\n",
    "\n",
    "\n"
   ]
  },
  {
   "cell_type": "code",
   "execution_count": 13,
   "id": "61beab55",
   "metadata": {},
   "outputs": [
    {
     "name": "stdout",
     "output_type": "stream",
     "text": [
      "enter the score:190\n",
      "A grade\n"
     ]
    }
   ],
   "source": [
    "#exercise no 7\n",
    "score=int(input('enter the score:'))\n",
    "total_score = 500\n",
    "\n",
    "if total_score >= 450:\n",
    "    print(\"A grade\")\n",
    "if total_score<= 400:\n",
    "    print(\"B grade\")\n",
    "if total_score <= 310:\n",
    "    print(\"C  grade\")\n",
    "elif total_score <= 200:\n",
    "    print(\"D grade\")\n",
    "elif total_score <= 150:\n",
    "    print(\"F grade\")\n",
    "\n",
    "         \n",
    "    \n"
   ]
  },
  {
   "cell_type": "code",
   "execution_count": 15,
   "id": "c5f38fea",
   "metadata": {},
   "outputs": [
    {
     "name": "stdout",
     "output_type": "stream",
     "text": [
      "enter the score:95\n",
      "A grade\n"
     ]
    }
   ],
   "source": [
    "score=int(input(\"enter the score:\"))\n",
    "total_score=100\n",
    "if score>=90:\n",
    "    print(\"A grade\")\n",
    "elif score <90 and score>80:\n",
    "    print('B grade')\n",
    "elif score>=70 and score<80:\n",
    "    print('C grade')\n",
    "elif score >50 and score>60:\n",
    "    print('D grade')\n",
    "else:\n",
    "    print('F grade')"
   ]
  },
  {
   "cell_type": "code",
   "execution_count": 21,
   "id": "a36a1f35",
   "metadata": {},
   "outputs": [
    {
     "name": "stdout",
     "output_type": "stream",
     "text": [
      "enter the number:6\n",
      "not a prime number:\n"
     ]
    }
   ],
   "source": [
    "#exercise no 8\n",
    "num=int(input(\"enter the number:\"))\n",
    "if num == 1:\n",
    "    print(\"not a prime number\")\n",
    "if num >1:\n",
    "   for i in range (2 ,num):\n",
    "        if num %i ==0:\n",
    "            print(\"not a prime number:\")\n",
    "            break\n",
    "        else:\n",
    "            print(\"prime number\")\n",
    "        \n",
    "            "
   ]
  },
  {
   "cell_type": "code",
   "execution_count": 22,
   "id": "b9bab1a2",
   "metadata": {},
   "outputs": [
    {
     "name": "stdout",
     "output_type": "stream",
     "text": [
      "enter the year:2001\n",
      "not a leap year\n"
     ]
    }
   ],
   "source": [
    "#exercise no 9\n",
    "year =int(input(\"enter the year:\"))\n",
    "if (year %400 ==0) and (year %100==0):\n",
    "    print(year, \"is a leap year\")\n",
    "elif (year %4==0)and (year %100!=0):\n",
    "    print(year,\"is a leap year\")\n",
    "else:\n",
    "    print(\"not a leap year\")\n"
   ]
  },
  {
   "cell_type": "code",
   "execution_count": 23,
   "id": "2ee8966c",
   "metadata": {},
   "outputs": [
    {
     "ename": "SyntaxError",
     "evalue": "invalid syntax. Perhaps you forgot a comma? (2859422972.py, line 7)",
     "output_type": "error",
     "traceback": [
      "\u001b[1;36m  Cell \u001b[1;32mIn[23], line 7\u001b[1;36m\u001b[0m\n\u001b[1;33m    print(\"large num is ,num\"2)\u001b[0m\n\u001b[1;37m          ^\u001b[0m\n\u001b[1;31mSyntaxError\u001b[0m\u001b[1;31m:\u001b[0m invalid syntax. Perhaps you forgot a comma?\n"
     ]
    }
   ],
   "source": [
    "#exercise no 10\n",
    "num1 = int(input(\"enter the num1:\"))\n",
    "num2=int(input(\"enter the num2:\"))\n",
    "if num1>num2:\n",
    "    print(\"large num is ,num1\")\n",
    "if num<num2:\n",
    "    print(\"large num is ,num\"2)\n",
    "else:\n",
    "    print(\"numbers are equal\")"
   ]
  },
  {
   "cell_type": "code",
   "execution_count": null,
   "id": "dfb252a1",
   "metadata": {},
   "outputs": [],
   "source": []
  }
 ],
 "metadata": {
  "kernelspec": {
   "display_name": "Python 3 (ipykernel)",
   "language": "python",
   "name": "python3"
  },
  "language_info": {
   "codemirror_mode": {
    "name": "ipython",
    "version": 3
   },
   "file_extension": ".py",
   "mimetype": "text/x-python",
   "name": "python",
   "nbconvert_exporter": "python",
   "pygments_lexer": "ipython3",
   "version": "3.11.5"
  }
 },
 "nbformat": 4,
 "nbformat_minor": 5
}
